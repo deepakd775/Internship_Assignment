{
 "cells": [
  {
   "cell_type": "markdown",
   "metadata": {},
   "source": [
    "# Problem 1"
   ]
  },
  {
   "cell_type": "code",
   "execution_count": 1,
   "metadata": {},
   "outputs": [
    {
     "name": "stdout",
     "output_type": "stream",
     "text": [
      "food:1\n",
      "face:1\n",
      "donation:1\n",
      "coalition:1\n",
      "economy:1\n",
      "sector:1\n"
     ]
    }
   ],
   "source": [
    "Input_str = \"With the recent uptick to the COVID-19 positive cases and many states in various phases of restarting the economy; the food service industry and the restaurant sector have been strongly impacted. DMS Coalition is proud to announce the 'Facemasks For Restaurants Donation Initiative.'\"\n",
    "\n",
    "Validation_array = [\"food\", \"face\", \"donation\", \"coalition\", \"economy\", \"sector\"]\n",
    "\n",
    "for x in Validation_array:\n",
    "    if x.casefold() in str(Input_str.casefold()):\n",
    "        count = Input_str.casefold().count(x.casefold())\n",
    "        print(x+\":\"+str(count))"
   ]
  },
  {
   "cell_type": "markdown",
   "metadata": {},
   "source": [
    "# Problem 2"
   ]
  },
  {
   "cell_type": "code",
   "execution_count": 2,
   "metadata": {},
   "outputs": [
    {
     "name": "stdout",
     "output_type": "stream",
     "text": [
      "'impolite', 'undress', 'rule', 'illustrious', 'beam', 'helpless', 'gold', 'hair', 'vacuous', 'help', 'guess', 'squalid', 'memorise', 'present', 'brake', 'sand', 'lip', 'talk', 'abashed', 'box', 'chop', 'tenuous', 'robin', 'trees', 'moor', 'hunt', 'old-fashioned'\n"
     ]
    }
   ],
   "source": [
    "def remove_matching_item():\n",
    "    Input_array = [\"impolite\", \"cows\", \"undress\", \"rule\", \"illustrious\", \"beam\", \"helpless\", \"gold\", \"hair\", \n",
    "               \"vacuous\", \"help\", \"guess\", \"squalid\", \"wonderful\", \"memorise\", \"present\", \"painful\", \"brake\", \n",
    "               \"sand\", \"lip\", \"rainstorm\", \"talk\", \"abashed\", \"box\", \"partner\", \"chop\", \"tenuous\", \"robin\", \n",
    "               \"trees\", \"moor\", \"hunt\", \"pack\", \"old-fashioned\"]\n",
    "\n",
    "    rejected_items=[\"cows\", \"partner\", \"wonderful\", \"rainstorm\", \"pack\", \"painful\"]\n",
    "\n",
    "\n",
    "    for i in rejected_items:\n",
    "        try:\n",
    "            Input_array.remove(i)\n",
    "        except:\n",
    "            pass\n",
    "    print (str(Input_array)[1:-1])\n",
    "remove_matching_item()"
   ]
  }
 ],
 "metadata": {
  "kernelspec": {
   "display_name": "Python 3",
   "language": "python",
   "name": "python3"
  },
  "language_info": {
   "codemirror_mode": {
    "name": "ipython",
    "version": 3
   },
   "file_extension": ".py",
   "mimetype": "text/x-python",
   "name": "python",
   "nbconvert_exporter": "python",
   "pygments_lexer": "ipython3",
   "version": "3.7.6"
  }
 },
 "nbformat": 4,
 "nbformat_minor": 4
}
